{
 "cells": [
  {
   "cell_type": "markdown",
   "source": [
    "# Step 1. Load Modules"
   ],
   "metadata": {
    "collapsed": false,
    "pycharm": {
     "name": "#%% md\n"
    }
   }
  },
  {
   "cell_type": "code",
   "execution_count": 78,
   "outputs": [],
   "source": [
    "import numpy as np\n",
    "import matplotlib.pyplot as plt\n",
    "import seaborn as sns\n",
    "import pandas as pd"
   ],
   "metadata": {
    "collapsed": false,
    "pycharm": {
     "name": "#%%\n"
    }
   }
  },
  {
   "cell_type": "markdown",
   "source": [
    "# Step 2. Use mapping csv to transform lab data."
   ],
   "metadata": {
    "collapsed": false,
    "pycharm": {
     "name": "#%% md\n"
    }
   }
  },
  {
   "cell_type": "code",
   "execution_count": 79,
   "outputs": [],
   "source": [
    "mapping = pd.read_csv('../data/itemid_to_variable_map.csv', index_col='ITEMID', dtype={'ITEMID': int})\n",
    "mapping = mapping[(mapping['LEVEL2'] != '') &\\\n",
    "                  (mapping['COUNT'] > 0) &\\\n",
    "                  (mapping['STATUS'] == 'ready')\n",
    "                 ]"
   ],
   "metadata": {
    "collapsed": false,
    "pycharm": {
     "name": "#%%\n"
    }
   }
  },
  {
   "cell_type": "code",
   "execution_count": 80,
   "outputs": [
    {
     "data": {
      "text/plain": "                          LEVEL2                    LEVEL1 ALTERNATIVE STATUS  \\\nITEMID                                                                          \n50861   Alanine aminotransferase  Alanine aminotransferase         ALT  ready   \n769     Alanine aminotransferase  Alanine aminotransferase         ALT  ready   \n220644  Alanine aminotransferase  Alanine aminotransferase         ALT  ready   \n50862                    Albumin                   Albumin         NaN  ready   \n772                      Albumin                   Albumin         NaN  ready   \n\n       STATUS NOTE                     MIMIC LABEL UNITNAME      LINKSTO  \\\nITEMID                                                                     \n50861          NaN  ALANINE AMINOTRANSFERASE (ALT)      NaN    labevents   \n769            NaN                             ALT      NaN  chartevents   \n220644         NaN                             ALT     None  chartevents   \n50862          NaN                         ALBUMIN      NaN    labevents   \n772            NaN                  Albumin (>3.2)      NaN  chartevents   \n\n           COUNT   CATEGORY  CONCEPTID  FLUID LOINC_CODE    DBSOURCE  \\\nITEMID                                                                 \n50861   219475.0  CHEMISTRY        NaN  BLOOD                    NaN   \n769      41594.0    Enzymes        NaN    NaN        NaN     carevue   \n220644   37625.0       Labs        NaN    NaN        NaN  metavision   \n50862   146697.0  CHEMISTRY        NaN  BLOOD     1751-7         NaN   \n772      31022.0  Chemistry        NaN    NaN        NaN     carevue   \n\n        Unnamed: 15 PARAM_TYPE  NOTE  \nITEMID                                \n50861           NaN        NaN   NaN  \n769             NaN        NaN   NaN  \n220644          NaN    Numeric   NaN  \n50862           NaN        NaN   NaN  \n772             NaN        NaN   NaN  ",
      "text/html": "<div>\n<style scoped>\n    .dataframe tbody tr th:only-of-type {\n        vertical-align: middle;\n    }\n\n    .dataframe tbody tr th {\n        vertical-align: top;\n    }\n\n    .dataframe thead th {\n        text-align: right;\n    }\n</style>\n<table border=\"1\" class=\"dataframe\">\n  <thead>\n    <tr style=\"text-align: right;\">\n      <th></th>\n      <th>LEVEL2</th>\n      <th>LEVEL1</th>\n      <th>ALTERNATIVE</th>\n      <th>STATUS</th>\n      <th>STATUS NOTE</th>\n      <th>MIMIC LABEL</th>\n      <th>UNITNAME</th>\n      <th>LINKSTO</th>\n      <th>COUNT</th>\n      <th>CATEGORY</th>\n      <th>CONCEPTID</th>\n      <th>FLUID</th>\n      <th>LOINC_CODE</th>\n      <th>DBSOURCE</th>\n      <th>Unnamed: 15</th>\n      <th>PARAM_TYPE</th>\n      <th>NOTE</th>\n    </tr>\n    <tr>\n      <th>ITEMID</th>\n      <th></th>\n      <th></th>\n      <th></th>\n      <th></th>\n      <th></th>\n      <th></th>\n      <th></th>\n      <th></th>\n      <th></th>\n      <th></th>\n      <th></th>\n      <th></th>\n      <th></th>\n      <th></th>\n      <th></th>\n      <th></th>\n      <th></th>\n    </tr>\n  </thead>\n  <tbody>\n    <tr>\n      <th>50861</th>\n      <td>Alanine aminotransferase</td>\n      <td>Alanine aminotransferase</td>\n      <td>ALT</td>\n      <td>ready</td>\n      <td>NaN</td>\n      <td>ALANINE AMINOTRANSFERASE (ALT)</td>\n      <td>NaN</td>\n      <td>labevents</td>\n      <td>219475.0</td>\n      <td>CHEMISTRY</td>\n      <td>NaN</td>\n      <td>BLOOD</td>\n      <td></td>\n      <td>NaN</td>\n      <td>NaN</td>\n      <td>NaN</td>\n      <td>NaN</td>\n    </tr>\n    <tr>\n      <th>769</th>\n      <td>Alanine aminotransferase</td>\n      <td>Alanine aminotransferase</td>\n      <td>ALT</td>\n      <td>ready</td>\n      <td>NaN</td>\n      <td>ALT</td>\n      <td>NaN</td>\n      <td>chartevents</td>\n      <td>41594.0</td>\n      <td>Enzymes</td>\n      <td>NaN</td>\n      <td>NaN</td>\n      <td>NaN</td>\n      <td>carevue</td>\n      <td>NaN</td>\n      <td>NaN</td>\n      <td>NaN</td>\n    </tr>\n    <tr>\n      <th>220644</th>\n      <td>Alanine aminotransferase</td>\n      <td>Alanine aminotransferase</td>\n      <td>ALT</td>\n      <td>ready</td>\n      <td>NaN</td>\n      <td>ALT</td>\n      <td>None</td>\n      <td>chartevents</td>\n      <td>37625.0</td>\n      <td>Labs</td>\n      <td>NaN</td>\n      <td>NaN</td>\n      <td>NaN</td>\n      <td>metavision</td>\n      <td>NaN</td>\n      <td>Numeric</td>\n      <td>NaN</td>\n    </tr>\n    <tr>\n      <th>50862</th>\n      <td>Albumin</td>\n      <td>Albumin</td>\n      <td>NaN</td>\n      <td>ready</td>\n      <td>NaN</td>\n      <td>ALBUMIN</td>\n      <td>NaN</td>\n      <td>labevents</td>\n      <td>146697.0</td>\n      <td>CHEMISTRY</td>\n      <td>NaN</td>\n      <td>BLOOD</td>\n      <td>1751-7</td>\n      <td>NaN</td>\n      <td>NaN</td>\n      <td>NaN</td>\n      <td>NaN</td>\n    </tr>\n    <tr>\n      <th>772</th>\n      <td>Albumin</td>\n      <td>Albumin</td>\n      <td>NaN</td>\n      <td>ready</td>\n      <td>NaN</td>\n      <td>Albumin (&gt;3.2)</td>\n      <td>NaN</td>\n      <td>chartevents</td>\n      <td>31022.0</td>\n      <td>Chemistry</td>\n      <td>NaN</td>\n      <td>NaN</td>\n      <td>NaN</td>\n      <td>carevue</td>\n      <td>NaN</td>\n      <td>NaN</td>\n      <td>NaN</td>\n    </tr>\n  </tbody>\n</table>\n</div>"
     },
     "execution_count": 80,
     "metadata": {},
     "output_type": "execute_result"
    }
   ],
   "source": [
    "mapping.head()"
   ],
   "metadata": {
    "collapsed": false,
    "pycharm": {
     "name": "#%%\n"
    }
   }
  },
  {
   "cell_type": "code",
   "execution_count": 81,
   "outputs": [],
   "source": [
    "lab_data = pd.read_csv('../data/LABEVENTS.csv', parse_dates=['CHARTTIME'])\n",
    "lab_data = lab_data[lab_data['ITEMID'].isin(mapping.index)][['SUBJECT_ID', 'HADM_ID', 'ITEMID', 'CHARTTIME', 'VALUENUM']]\n",
    "lab_data['Lab'] = mapping['LEVEL1'].loc[lab_data['ITEMID']].values"
   ],
   "metadata": {
    "collapsed": false,
    "pycharm": {
     "name": "#%%\n"
    }
   }
  },
  {
   "cell_type": "code",
   "execution_count": 82,
   "outputs": [
    {
     "data": {
      "text/plain": "   SUBJECT_ID  HADM_ID  ITEMID           CHARTTIME  VALUENUM  \\\n0           3      NaN   50820 2101-10-12 16:07:00      7.39   \n3           3      NaN   50804 2101-10-12 18:17:00     22.00   \n4           3      NaN   50808 2101-10-12 18:17:00      0.93   \n6           3      NaN   50813 2101-10-12 18:17:00      1.80   \n7           3      NaN   50818 2101-10-12 18:17:00     33.00   \n\n                                  Lab  \n0                                  pH  \n3             CO2 (ETCO2, PCO2, etc.)  \n4                     Calcium ionized  \n6                             Lactate  \n7  Partial pressure of carbon dioxide  ",
      "text/html": "<div>\n<style scoped>\n    .dataframe tbody tr th:only-of-type {\n        vertical-align: middle;\n    }\n\n    .dataframe tbody tr th {\n        vertical-align: top;\n    }\n\n    .dataframe thead th {\n        text-align: right;\n    }\n</style>\n<table border=\"1\" class=\"dataframe\">\n  <thead>\n    <tr style=\"text-align: right;\">\n      <th></th>\n      <th>SUBJECT_ID</th>\n      <th>HADM_ID</th>\n      <th>ITEMID</th>\n      <th>CHARTTIME</th>\n      <th>VALUENUM</th>\n      <th>Lab</th>\n    </tr>\n  </thead>\n  <tbody>\n    <tr>\n      <th>0</th>\n      <td>3</td>\n      <td>NaN</td>\n      <td>50820</td>\n      <td>2101-10-12 16:07:00</td>\n      <td>7.39</td>\n      <td>pH</td>\n    </tr>\n    <tr>\n      <th>3</th>\n      <td>3</td>\n      <td>NaN</td>\n      <td>50804</td>\n      <td>2101-10-12 18:17:00</td>\n      <td>22.00</td>\n      <td>CO2 (ETCO2, PCO2, etc.)</td>\n    </tr>\n    <tr>\n      <th>4</th>\n      <td>3</td>\n      <td>NaN</td>\n      <td>50808</td>\n      <td>2101-10-12 18:17:00</td>\n      <td>0.93</td>\n      <td>Calcium ionized</td>\n    </tr>\n    <tr>\n      <th>6</th>\n      <td>3</td>\n      <td>NaN</td>\n      <td>50813</td>\n      <td>2101-10-12 18:17:00</td>\n      <td>1.80</td>\n      <td>Lactate</td>\n    </tr>\n    <tr>\n      <th>7</th>\n      <td>3</td>\n      <td>NaN</td>\n      <td>50818</td>\n      <td>2101-10-12 18:17:00</td>\n      <td>33.00</td>\n      <td>Partial pressure of carbon dioxide</td>\n    </tr>\n  </tbody>\n</table>\n</div>"
     },
     "execution_count": 82,
     "metadata": {},
     "output_type": "execute_result"
    }
   ],
   "source": [
    "lab_data.head()"
   ],
   "metadata": {
    "collapsed": false,
    "pycharm": {
     "name": "#%%\n"
    }
   }
  },
  {
   "cell_type": "markdown",
   "source": [
    "# Step 3. Load in Admissions csv and merge with DOB/Gender information."
   ],
   "metadata": {
    "collapsed": false,
    "pycharm": {
     "name": "#%% md\n"
    }
   }
  },
  {
   "cell_type": "code",
   "execution_count": 83,
   "outputs": [
    {
     "data": {
      "text/plain": "   SUBJECT_ID GENDER        DOB\n0         249      F 2075-03-13\n1         250      F 2164-12-27\n2         251      M 2090-03-15\n3         252      M 2078-03-06\n4         253      F 2089-11-26",
      "text/html": "<div>\n<style scoped>\n    .dataframe tbody tr th:only-of-type {\n        vertical-align: middle;\n    }\n\n    .dataframe tbody tr th {\n        vertical-align: top;\n    }\n\n    .dataframe thead th {\n        text-align: right;\n    }\n</style>\n<table border=\"1\" class=\"dataframe\">\n  <thead>\n    <tr style=\"text-align: right;\">\n      <th></th>\n      <th>SUBJECT_ID</th>\n      <th>GENDER</th>\n      <th>DOB</th>\n    </tr>\n  </thead>\n  <tbody>\n    <tr>\n      <th>0</th>\n      <td>249</td>\n      <td>F</td>\n      <td>2075-03-13</td>\n    </tr>\n    <tr>\n      <th>1</th>\n      <td>250</td>\n      <td>F</td>\n      <td>2164-12-27</td>\n    </tr>\n    <tr>\n      <th>2</th>\n      <td>251</td>\n      <td>M</td>\n      <td>2090-03-15</td>\n    </tr>\n    <tr>\n      <th>3</th>\n      <td>252</td>\n      <td>M</td>\n      <td>2078-03-06</td>\n    </tr>\n    <tr>\n      <th>4</th>\n      <td>253</td>\n      <td>F</td>\n      <td>2089-11-26</td>\n    </tr>\n  </tbody>\n</table>\n</div>"
     },
     "execution_count": 83,
     "metadata": {},
     "output_type": "execute_result"
    }
   ],
   "source": [
    "patients = pd.read_csv('../data/PATIENTS.csv', usecols = ['SUBJECT_ID', 'GENDER', 'DOB'], parse_dates=['DOB'])\n",
    "patients.head()"
   ],
   "metadata": {
    "collapsed": false,
    "pycharm": {
     "name": "#%%\n"
    }
   }
  },
  {
   "cell_type": "code",
   "execution_count": 84,
   "outputs": [],
   "source": [
    "admissions = pd.read_csv('../data/ADMISSIONS.csv',\n",
    "                         usecols = ['SUBJECT_ID', 'HADM_ID', 'ADMISSION_TYPE', 'HOSPITAL_EXPIRE_FLAG',\n",
    "                                    'ADMITTIME', 'DISCHTIME', 'DEATHTIME', 'ETHNICITY', 'INSURANCE', 'DIAGNOSIS'],\n",
    "                         parse_dates=['ADMITTIME', 'DISCHTIME', 'DEATHTIME'])"
   ],
   "metadata": {
    "collapsed": false,
    "pycharm": {
     "name": "#%%\n"
    }
   }
  },
  {
   "cell_type": "code",
   "execution_count": 85,
   "outputs": [],
   "source": [
    "admissions_merged = admissions.merge(patients, on='SUBJECT_ID')"
   ],
   "metadata": {
    "collapsed": false,
    "pycharm": {
     "name": "#%%\n"
    }
   }
  },
  {
   "cell_type": "markdown",
   "source": [
    "# Step 4. Filter only for adults in admissions_merged."
   ],
   "metadata": {
    "collapsed": false,
    "pycharm": {
     "name": "#%% md\n"
    }
   }
  },
  {
   "cell_type": "code",
   "execution_count": 86,
   "outputs": [
    {
     "data": {
      "text/plain": "(58976, 12)"
     },
     "execution_count": 86,
     "metadata": {},
     "output_type": "execute_result"
    }
   ],
   "source": [
    "admissions = admissions_merged.dropna(subset=['ADMITTIME', 'DOB'])\n",
    "\n",
    "admissions.shape"
   ],
   "metadata": {
    "collapsed": false,
    "pycharm": {
     "name": "#%%\n"
    }
   }
  },
  {
   "cell_type": "code",
   "execution_count": 87,
   "outputs": [
    {
     "data": {
      "text/plain": "(50766, 13)"
     },
     "execution_count": 87,
     "metadata": {},
     "output_type": "execute_result"
    }
   ],
   "source": [
    "admissions['AGE'] = admissions['ADMITTIME'].dt.to_pydatetime() - admissions['DOB'].dt.to_pydatetime()\n",
    "admissions['AGE'] = [date.days/365 for date in admissions['AGE']]\n",
    "admissions_filtered = admissions[admissions['AGE'] >= 18]\n",
    "\n",
    "admissions_filtered.shape"
   ],
   "metadata": {
    "collapsed": false,
    "pycharm": {
     "name": "#%%\n"
    }
   }
  },
  {
   "cell_type": "markdown",
   "source": [
    "# Step 5. Clean admissions."
   ],
   "metadata": {
    "collapsed": false,
    "pycharm": {
     "name": "#%% md\n"
    }
   }
  },
  {
   "cell_type": "code",
   "execution_count": 88,
   "outputs": [
    {
     "name": "stderr",
     "output_type": "stream",
     "text": [
      "C:\\Users\\steph\\AppData\\Local\\Temp\\ipykernel_18448\\942370027.py:2: FutureWarning: In a future version of pandas all arguments of Series.drop_duplicates will be keyword-only.\n",
      "  admissions = admissions_filtered.loc[admissions_filtered['SUBJECT_ID'].drop_duplicates('last').index]\n"
     ]
    },
    {
     "data": {
      "text/plain": "(38552, 14)"
     },
     "execution_count": 88,
     "metadata": {},
     "output_type": "execute_result"
    }
   ],
   "source": [
    "# Get last visit for each patient.\n",
    "admissions = admissions_filtered.loc[admissions_filtered['SUBJECT_ID'].drop_duplicates('last').index]\n",
    "\n",
    "# Change times to hours since admissions\n",
    "admissions['Death'] = admissions['DEATHTIME'] - admissions['ADMITTIME']\n",
    "admissions['LOS'] = admissions['DISCHTIME'] - admissions['ADMITTIME']\n",
    "\n",
    "# Create index for easier search\n",
    "admissions = admissions.set_index('SUBJECT_ID')\n",
    "admissions.shape"
   ],
   "metadata": {
    "collapsed": false,
    "pycharm": {
     "name": "#%%\n"
    }
   }
  },
  {
   "cell_type": "code",
   "execution_count": 89,
   "outputs": [],
   "source": [
    "assert len(admissions.HADM_ID.unique()) == len(admissions), \\\n",
    "    'Different patients have the same HADM_ID'"
   ],
   "metadata": {
    "collapsed": false,
    "pycharm": {
     "name": "#%%\n"
    }
   }
  },
  {
   "cell_type": "markdown",
   "source": [
    "# Step 6. Clean lab_data"
   ],
   "metadata": {
    "collapsed": false,
    "pycharm": {
     "name": "#%% md\n"
    }
   }
  },
  {
   "cell_type": "code",
   "execution_count": 90,
   "outputs": [
    {
     "data": {
      "text/plain": "     SUBJECT_ID   HADM_ID  ITEMID           CHARTTIME  VALUENUM  \\\n160           3  145834.0   50868 2101-10-20 16:40:00      17.0   \n161           3  145834.0   50882 2101-10-20 16:40:00      25.0   \n162           3  145834.0   50893 2101-10-20 16:40:00       8.2   \n163           3  145834.0   50902 2101-10-20 16:40:00      99.0   \n166           3  145834.0   50912 2101-10-20 16:40:00       3.2   \n\n                 Lab              Time  \n160        Anion gap -1 days +21:32:00  \n161      Bicarbonate -1 days +21:32:00  \n162  Calcium (total) -1 days +21:32:00  \n163         Chloride -1 days +21:32:00  \n166       Creatinine -1 days +21:32:00  ",
      "text/html": "<div>\n<style scoped>\n    .dataframe tbody tr th:only-of-type {\n        vertical-align: middle;\n    }\n\n    .dataframe tbody tr th {\n        vertical-align: top;\n    }\n\n    .dataframe thead th {\n        text-align: right;\n    }\n</style>\n<table border=\"1\" class=\"dataframe\">\n  <thead>\n    <tr style=\"text-align: right;\">\n      <th></th>\n      <th>SUBJECT_ID</th>\n      <th>HADM_ID</th>\n      <th>ITEMID</th>\n      <th>CHARTTIME</th>\n      <th>VALUENUM</th>\n      <th>Lab</th>\n      <th>Time</th>\n    </tr>\n  </thead>\n  <tbody>\n    <tr>\n      <th>160</th>\n      <td>3</td>\n      <td>145834.0</td>\n      <td>50868</td>\n      <td>2101-10-20 16:40:00</td>\n      <td>17.0</td>\n      <td>Anion gap</td>\n      <td>-1 days +21:32:00</td>\n    </tr>\n    <tr>\n      <th>161</th>\n      <td>3</td>\n      <td>145834.0</td>\n      <td>50882</td>\n      <td>2101-10-20 16:40:00</td>\n      <td>25.0</td>\n      <td>Bicarbonate</td>\n      <td>-1 days +21:32:00</td>\n    </tr>\n    <tr>\n      <th>162</th>\n      <td>3</td>\n      <td>145834.0</td>\n      <td>50893</td>\n      <td>2101-10-20 16:40:00</td>\n      <td>8.2</td>\n      <td>Calcium (total)</td>\n      <td>-1 days +21:32:00</td>\n    </tr>\n    <tr>\n      <th>163</th>\n      <td>3</td>\n      <td>145834.0</td>\n      <td>50902</td>\n      <td>2101-10-20 16:40:00</td>\n      <td>99.0</td>\n      <td>Chloride</td>\n      <td>-1 days +21:32:00</td>\n    </tr>\n    <tr>\n      <th>166</th>\n      <td>3</td>\n      <td>145834.0</td>\n      <td>50912</td>\n      <td>2101-10-20 16:40:00</td>\n      <td>3.2</td>\n      <td>Creatinine</td>\n      <td>-1 days +21:32:00</td>\n    </tr>\n  </tbody>\n</table>\n</div>"
     },
     "execution_count": 90,
     "metadata": {},
     "output_type": "execute_result"
    }
   ],
   "source": [
    "lab_data = lab_data[lab_data['HADM_ID'].isin(admissions['HADM_ID'])]\n",
    "\n",
    "# like admissions time transformations, change time event to time since admission\n",
    "lab_data['Time'] = lab_data['CHARTTIME'].values - admissions['ADMITTIME'].loc[lab_data['SUBJECT_ID']].values\n",
    "\n",
    "lab_data.head()"
   ],
   "metadata": {
    "collapsed": false,
    "pycharm": {
     "name": "#%%\n"
    }
   }
  },
  {
   "cell_type": "markdown",
   "source": [
    "# Step 7. Reformat dataframes for csv output"
   ],
   "metadata": {
    "collapsed": false,
    "pycharm": {
     "name": "#%% md\n"
    }
   }
  },
  {
   "cell_type": "code",
   "execution_count": 91,
   "outputs": [
    {
     "data": {
      "text/plain": "   Patient              Time              Lab  Value\n0        3 -1 days +21:32:00        Anion gap   17.0\n1        3 -1 days +21:32:00      Bicarbonate   25.0\n2        3 -1 days +21:32:00  Calcium (total)    8.2\n3        3 -1 days +21:32:00         Chloride   99.0\n4        3 -1 days +21:32:00       Creatinine    3.2",
      "text/html": "<div>\n<style scoped>\n    .dataframe tbody tr th:only-of-type {\n        vertical-align: middle;\n    }\n\n    .dataframe tbody tr th {\n        vertical-align: top;\n    }\n\n    .dataframe thead th {\n        text-align: right;\n    }\n</style>\n<table border=\"1\" class=\"dataframe\">\n  <thead>\n    <tr style=\"text-align: right;\">\n      <th></th>\n      <th>Patient</th>\n      <th>Time</th>\n      <th>Lab</th>\n      <th>Value</th>\n    </tr>\n  </thead>\n  <tbody>\n    <tr>\n      <th>0</th>\n      <td>3</td>\n      <td>-1 days +21:32:00</td>\n      <td>Anion gap</td>\n      <td>17.0</td>\n    </tr>\n    <tr>\n      <th>1</th>\n      <td>3</td>\n      <td>-1 days +21:32:00</td>\n      <td>Bicarbonate</td>\n      <td>25.0</td>\n    </tr>\n    <tr>\n      <th>2</th>\n      <td>3</td>\n      <td>-1 days +21:32:00</td>\n      <td>Calcium (total)</td>\n      <td>8.2</td>\n    </tr>\n    <tr>\n      <th>3</th>\n      <td>3</td>\n      <td>-1 days +21:32:00</td>\n      <td>Chloride</td>\n      <td>99.0</td>\n    </tr>\n    <tr>\n      <th>4</th>\n      <td>3</td>\n      <td>-1 days +21:32:00</td>\n      <td>Creatinine</td>\n      <td>3.2</td>\n    </tr>\n  </tbody>\n</table>\n</div>"
     },
     "execution_count": 91,
     "metadata": {},
     "output_type": "execute_result"
    }
   ],
   "source": [
    "lab_data.rename(columns={'SUBJECT_ID': 'Patient', 'VALUENUM': 'Value'}, inplace = True)\n",
    "lab_data = lab_data.reset_index(drop = True)[['Patient', 'Time', 'Lab', 'Value']]\n",
    "lab_data.head()"
   ],
   "metadata": {
    "collapsed": false,
    "pycharm": {
     "name": "#%%\n"
    }
   }
  },
  {
   "cell_type": "code",
   "execution_count": 92,
   "outputs": [
    {
     "data": {
      "text/plain": "         HADM_ID           ADMITTIME           DISCHTIME DEATHTIME  \\\nPatient                                                              \n22        165315 2196-04-09 12:26:00 2196-04-10 15:54:00       NaT   \n23        124321 2157-10-18 19:34:00 2157-10-25 14:00:00       NaT   \n24        161859 2139-06-06 16:14:00 2139-06-09 12:48:00       NaT   \n25        129635 2160-11-02 02:06:00 2160-11-05 14:55:00       NaT   \n26        197661 2126-05-06 15:16:00 2126-05-13 15:00:00       NaT   \n\n        ADMISSION_TYPE INSURANCE              ETHNICITY  \\\nPatient                                                   \n22           EMERGENCY   Private                  WHITE   \n23           EMERGENCY  Medicare                  WHITE   \n24           EMERGENCY   Private                  WHITE   \n25           EMERGENCY   Private                  WHITE   \n26           EMERGENCY  Medicare  UNKNOWN/NOT SPECIFIED   \n\n                              DIAGNOSIS  HOSPITAL_EXPIRE_FLAG GENDER  \\\nPatient                                                                \n22              BENZODIAZEPINE OVERDOSE                     0      F   \n23                           BRAIN MASS                     0      M   \n24       INTERIOR MYOCARDIAL INFARCTION                     0      M   \n25              ACUTE CORONARY SYNDROME                     0      M   \n26                               V-TACH                     0      M   \n\n               DOB        AGE Death             LOS  \nPatient                                              \n22      2131-05-07  64.969863   NaT 1 days 03:28:00  \n23      2082-07-17  75.304110   NaT 6 days 18:26:00  \n24      2100-05-31  39.041096   NaT 2 days 20:34:00  \n25      2101-11-21  58.989041   NaT 3 days 12:49:00  \n26      2054-05-04  72.052055   NaT 6 days 23:44:00  ",
      "text/html": "<div>\n<style scoped>\n    .dataframe tbody tr th:only-of-type {\n        vertical-align: middle;\n    }\n\n    .dataframe tbody tr th {\n        vertical-align: top;\n    }\n\n    .dataframe thead th {\n        text-align: right;\n    }\n</style>\n<table border=\"1\" class=\"dataframe\">\n  <thead>\n    <tr style=\"text-align: right;\">\n      <th></th>\n      <th>HADM_ID</th>\n      <th>ADMITTIME</th>\n      <th>DISCHTIME</th>\n      <th>DEATHTIME</th>\n      <th>ADMISSION_TYPE</th>\n      <th>INSURANCE</th>\n      <th>ETHNICITY</th>\n      <th>DIAGNOSIS</th>\n      <th>HOSPITAL_EXPIRE_FLAG</th>\n      <th>GENDER</th>\n      <th>DOB</th>\n      <th>AGE</th>\n      <th>Death</th>\n      <th>LOS</th>\n    </tr>\n    <tr>\n      <th>Patient</th>\n      <th></th>\n      <th></th>\n      <th></th>\n      <th></th>\n      <th></th>\n      <th></th>\n      <th></th>\n      <th></th>\n      <th></th>\n      <th></th>\n      <th></th>\n      <th></th>\n      <th></th>\n      <th></th>\n    </tr>\n  </thead>\n  <tbody>\n    <tr>\n      <th>22</th>\n      <td>165315</td>\n      <td>2196-04-09 12:26:00</td>\n      <td>2196-04-10 15:54:00</td>\n      <td>NaT</td>\n      <td>EMERGENCY</td>\n      <td>Private</td>\n      <td>WHITE</td>\n      <td>BENZODIAZEPINE OVERDOSE</td>\n      <td>0</td>\n      <td>F</td>\n      <td>2131-05-07</td>\n      <td>64.969863</td>\n      <td>NaT</td>\n      <td>1 days 03:28:00</td>\n    </tr>\n    <tr>\n      <th>23</th>\n      <td>124321</td>\n      <td>2157-10-18 19:34:00</td>\n      <td>2157-10-25 14:00:00</td>\n      <td>NaT</td>\n      <td>EMERGENCY</td>\n      <td>Medicare</td>\n      <td>WHITE</td>\n      <td>BRAIN MASS</td>\n      <td>0</td>\n      <td>M</td>\n      <td>2082-07-17</td>\n      <td>75.304110</td>\n      <td>NaT</td>\n      <td>6 days 18:26:00</td>\n    </tr>\n    <tr>\n      <th>24</th>\n      <td>161859</td>\n      <td>2139-06-06 16:14:00</td>\n      <td>2139-06-09 12:48:00</td>\n      <td>NaT</td>\n      <td>EMERGENCY</td>\n      <td>Private</td>\n      <td>WHITE</td>\n      <td>INTERIOR MYOCARDIAL INFARCTION</td>\n      <td>0</td>\n      <td>M</td>\n      <td>2100-05-31</td>\n      <td>39.041096</td>\n      <td>NaT</td>\n      <td>2 days 20:34:00</td>\n    </tr>\n    <tr>\n      <th>25</th>\n      <td>129635</td>\n      <td>2160-11-02 02:06:00</td>\n      <td>2160-11-05 14:55:00</td>\n      <td>NaT</td>\n      <td>EMERGENCY</td>\n      <td>Private</td>\n      <td>WHITE</td>\n      <td>ACUTE CORONARY SYNDROME</td>\n      <td>0</td>\n      <td>M</td>\n      <td>2101-11-21</td>\n      <td>58.989041</td>\n      <td>NaT</td>\n      <td>3 days 12:49:00</td>\n    </tr>\n    <tr>\n      <th>26</th>\n      <td>197661</td>\n      <td>2126-05-06 15:16:00</td>\n      <td>2126-05-13 15:00:00</td>\n      <td>NaT</td>\n      <td>EMERGENCY</td>\n      <td>Medicare</td>\n      <td>UNKNOWN/NOT SPECIFIED</td>\n      <td>V-TACH</td>\n      <td>0</td>\n      <td>M</td>\n      <td>2054-05-04</td>\n      <td>72.052055</td>\n      <td>NaT</td>\n      <td>6 days 23:44:00</td>\n    </tr>\n  </tbody>\n</table>\n</div>"
     },
     "execution_count": 92,
     "metadata": {},
     "output_type": "execute_result"
    }
   ],
   "source": [
    "admissions.rename_axis(index = 'Patient', inplace = True)\n",
    "admissions.head()"
   ],
   "metadata": {
    "collapsed": false,
    "pycharm": {
     "name": "#%%\n"
    }
   }
  },
  {
   "cell_type": "markdown",
   "source": [
    "# Step 8. Filter results for visits of length 24 hours or more."
   ],
   "metadata": {
    "collapsed": false,
    "pycharm": {
     "name": "#%% md\n"
    }
   }
  },
  {
   "cell_type": "code",
   "execution_count": 93,
   "outputs": [],
   "source": [
    "time_threshold = pd.to_timedelta('1 day'.format(1))\n",
    "admissions = admissions[admissions['LOS'] >= time_threshold]\n",
    "lab_data = lab_data[(lab_data['Time'] < time_threshold) & (lab_data['Time'] > pd.to_timedelta('0 day')) & lab_data['Patient'].isin(admissions.index)]"
   ],
   "metadata": {
    "collapsed": false,
    "pycharm": {
     "name": "#%%\n"
    }
   }
  },
  {
   "cell_type": "markdown",
   "source": [
    "# Step 9. Clean lab_data"
   ],
   "metadata": {
    "collapsed": false,
    "pycharm": {
     "name": "#%% md\n"
    }
   }
  },
  {
   "cell_type": "code",
   "execution_count": 94,
   "outputs": [
    {
     "name": "stderr",
     "output_type": "stream",
     "text": [
      "C:\\Users\\steph\\AppData\\Local\\Temp\\ipykernel_18448\\2852689128.py:8: FutureWarning: In a future version of pandas all arguments of MultiIndex.set_levels except for the argument 'levels' will be keyword-only.\n",
      "  lab_data.index = lab_data.index.set_levels(lab_data.index.levels[1].total_seconds()/(3600.*24), 1)\n"
     ]
    },
    {
     "data": {
      "text/plain": "                                    Value                            \\\nLab              Alanine aminotransferase Albumin Albumin (ascites)   \nPatient Time                                                          \n3       0.002778                      NaN     NaN               NaN   \n        0.004167                      NaN     NaN               NaN   \n        0.012500                      NaN     NaN               NaN   \n        0.035417                     25.0     1.8               NaN   \n        0.038889                      NaN     NaN               NaN   \n\n                                                                       \\\nLab              Albumin (pleural) Albumin (urine) Alkaline phosphate   \nPatient Time                                                            \n3       0.002778               NaN             NaN                NaN   \n        0.004167               NaN             NaN                NaN   \n        0.012500               NaN             NaN                NaN   \n        0.035417               NaN             NaN               73.0   \n        0.038889               NaN             NaN                NaN   \n\n                                                                            \\\nLab              Anion gap Asparate aminotransferase Basophils Bicarbonate   \nPatient Time                                                                 \n3       0.002778       NaN                       NaN       NaN         NaN   \n        0.004167       NaN                       NaN       NaN         NaN   \n        0.012500      23.0                       NaN       NaN        13.0   \n        0.035417      22.0                      69.0       NaN        11.0   \n        0.038889       NaN                       NaN       NaN         NaN   \n\n                  ...                                 \\\nLab               ... Red blood cell count (ascites)   \nPatient Time      ...                                  \n3       0.002778  ...                            NaN   \n        0.004167  ...                            NaN   \n        0.012500  ...                            NaN   \n        0.035417  ...                            NaN   \n        0.038889  ...                            NaN   \n\n                                                                             \\\nLab              Red blood cell count (pleural) Sodium Sodium (whole blood)   \nPatient Time                                                                  \n3       0.002778                            NaN    NaN                138.0   \n        0.004167                            NaN    NaN                153.0   \n        0.012500                            NaN  143.0                  NaN   \n        0.035417                            NaN  140.0                  NaN   \n        0.038889                            NaN    NaN                  NaN   \n\n                                                                       \\\nLab              Tidal Volume Observed Total Protein Urine Troponin-I   \nPatient Time                                                            \n3       0.002778                   NaN                 NaN        NaN   \n        0.004167                   NaN                 NaN        NaN   \n        0.012500                   NaN                 NaN        NaN   \n        0.035417                   NaN                 NaN        NaN   \n        0.038889                   NaN                 NaN        NaN   \n\n                                                          \nLab              Troponin-T White blood cell count    pH  \nPatient Time                                              \n3       0.002778        NaN                    NaN  7.35  \n        0.004167        NaN                    NaN  7.59  \n        0.012500        NaN                   11.3   NaN  \n        0.035417        NaN                   19.1   NaN  \n        0.038889        NaN                    NaN  7.26  \n\n[5 rows x 67 columns]",
      "text/html": "<div>\n<style scoped>\n    .dataframe tbody tr th:only-of-type {\n        vertical-align: middle;\n    }\n\n    .dataframe tbody tr th {\n        vertical-align: top;\n    }\n\n    .dataframe thead tr th {\n        text-align: left;\n    }\n\n    .dataframe thead tr:last-of-type th {\n        text-align: right;\n    }\n</style>\n<table border=\"1\" class=\"dataframe\">\n  <thead>\n    <tr>\n      <th></th>\n      <th></th>\n      <th colspan=\"21\" halign=\"left\">Value</th>\n    </tr>\n    <tr>\n      <th></th>\n      <th>Lab</th>\n      <th>Alanine aminotransferase</th>\n      <th>Albumin</th>\n      <th>Albumin (ascites)</th>\n      <th>Albumin (pleural)</th>\n      <th>Albumin (urine)</th>\n      <th>Alkaline phosphate</th>\n      <th>Anion gap</th>\n      <th>Asparate aminotransferase</th>\n      <th>Basophils</th>\n      <th>Bicarbonate</th>\n      <th>...</th>\n      <th>Red blood cell count (ascites)</th>\n      <th>Red blood cell count (pleural)</th>\n      <th>Sodium</th>\n      <th>Sodium (whole blood)</th>\n      <th>Tidal Volume Observed</th>\n      <th>Total Protein Urine</th>\n      <th>Troponin-I</th>\n      <th>Troponin-T</th>\n      <th>White blood cell count</th>\n      <th>pH</th>\n    </tr>\n    <tr>\n      <th>Patient</th>\n      <th>Time</th>\n      <th></th>\n      <th></th>\n      <th></th>\n      <th></th>\n      <th></th>\n      <th></th>\n      <th></th>\n      <th></th>\n      <th></th>\n      <th></th>\n      <th></th>\n      <th></th>\n      <th></th>\n      <th></th>\n      <th></th>\n      <th></th>\n      <th></th>\n      <th></th>\n      <th></th>\n      <th></th>\n      <th></th>\n    </tr>\n  </thead>\n  <tbody>\n    <tr>\n      <th rowspan=\"5\" valign=\"top\">3</th>\n      <th>0.002778</th>\n      <td>NaN</td>\n      <td>NaN</td>\n      <td>NaN</td>\n      <td>NaN</td>\n      <td>NaN</td>\n      <td>NaN</td>\n      <td>NaN</td>\n      <td>NaN</td>\n      <td>NaN</td>\n      <td>NaN</td>\n      <td>...</td>\n      <td>NaN</td>\n      <td>NaN</td>\n      <td>NaN</td>\n      <td>138.0</td>\n      <td>NaN</td>\n      <td>NaN</td>\n      <td>NaN</td>\n      <td>NaN</td>\n      <td>NaN</td>\n      <td>7.35</td>\n    </tr>\n    <tr>\n      <th>0.004167</th>\n      <td>NaN</td>\n      <td>NaN</td>\n      <td>NaN</td>\n      <td>NaN</td>\n      <td>NaN</td>\n      <td>NaN</td>\n      <td>NaN</td>\n      <td>NaN</td>\n      <td>NaN</td>\n      <td>NaN</td>\n      <td>...</td>\n      <td>NaN</td>\n      <td>NaN</td>\n      <td>NaN</td>\n      <td>153.0</td>\n      <td>NaN</td>\n      <td>NaN</td>\n      <td>NaN</td>\n      <td>NaN</td>\n      <td>NaN</td>\n      <td>7.59</td>\n    </tr>\n    <tr>\n      <th>0.012500</th>\n      <td>NaN</td>\n      <td>NaN</td>\n      <td>NaN</td>\n      <td>NaN</td>\n      <td>NaN</td>\n      <td>NaN</td>\n      <td>23.0</td>\n      <td>NaN</td>\n      <td>NaN</td>\n      <td>13.0</td>\n      <td>...</td>\n      <td>NaN</td>\n      <td>NaN</td>\n      <td>143.0</td>\n      <td>NaN</td>\n      <td>NaN</td>\n      <td>NaN</td>\n      <td>NaN</td>\n      <td>NaN</td>\n      <td>11.3</td>\n      <td>NaN</td>\n    </tr>\n    <tr>\n      <th>0.035417</th>\n      <td>25.0</td>\n      <td>1.8</td>\n      <td>NaN</td>\n      <td>NaN</td>\n      <td>NaN</td>\n      <td>73.0</td>\n      <td>22.0</td>\n      <td>69.0</td>\n      <td>NaN</td>\n      <td>11.0</td>\n      <td>...</td>\n      <td>NaN</td>\n      <td>NaN</td>\n      <td>140.0</td>\n      <td>NaN</td>\n      <td>NaN</td>\n      <td>NaN</td>\n      <td>NaN</td>\n      <td>NaN</td>\n      <td>19.1</td>\n      <td>NaN</td>\n    </tr>\n    <tr>\n      <th>0.038889</th>\n      <td>NaN</td>\n      <td>NaN</td>\n      <td>NaN</td>\n      <td>NaN</td>\n      <td>NaN</td>\n      <td>NaN</td>\n      <td>NaN</td>\n      <td>NaN</td>\n      <td>NaN</td>\n      <td>NaN</td>\n      <td>...</td>\n      <td>NaN</td>\n      <td>NaN</td>\n      <td>NaN</td>\n      <td>NaN</td>\n      <td>NaN</td>\n      <td>NaN</td>\n      <td>NaN</td>\n      <td>NaN</td>\n      <td>NaN</td>\n      <td>7.26</td>\n    </tr>\n  </tbody>\n</table>\n<p>5 rows × 67 columns</p>\n</div>"
     },
     "execution_count": 94,
     "metadata": {},
     "output_type": "execute_result"
    }
   ],
   "source": [
    "# remove duplicates\n",
    "lab_data = lab_data[~lab_data.set_index(['Patient', 'Time', 'Lab']).index.duplicated(keep=False)]\n",
    "\n",
    "# pivot to make tests columns\n",
    "lab_data = lab_data.pivot(index=['Patient', 'Time'], columns = 'Lab')\n",
    "\n",
    "# change index to have days\n",
    "lab_data.index = lab_data.index.set_levels(lab_data.index.levels[1].total_seconds()/(3600.*24), 1)\n",
    "\n",
    "#lab_data = lab_data.reset_index()\n",
    "\n",
    "# remove empty lines\n",
    "lab_data = lab_data.dropna(how='all')\n",
    "\n",
    "lab_data.head()"
   ],
   "metadata": {
    "collapsed": false,
    "pycharm": {
     "name": "#%%\n"
    }
   }
  },
  {
   "cell_type": "markdown",
   "source": [
    "# Step 10. Clean admissions"
   ],
   "metadata": {
    "collapsed": false,
    "pycharm": {
     "name": "#%% md\n"
    }
   }
  },
  {
   "cell_type": "code",
   "execution_count": 95,
   "outputs": [],
   "source": [
    "# remove patients with no lab data\n",
    "admissions = admissions.loc[lab_data.index.get_level_values(0).unique()]\n",
    "\n",
    "admissions['Death'] = admissions['Death'].dt.total_seconds() / (24 * 60 * 60)"
   ],
   "metadata": {
    "collapsed": false,
    "pycharm": {
     "name": "#%%\n"
    }
   }
  },
  {
   "cell_type": "code",
   "execution_count": 96,
   "outputs": [
    {
     "data": {
      "text/plain": "(36296, 14)"
     },
     "execution_count": 96,
     "metadata": {},
     "output_type": "execute_result"
    }
   ],
   "source": [
    "admissions.shape"
   ],
   "metadata": {
    "collapsed": false,
    "pycharm": {
     "name": "#%%\n"
    }
   }
  },
  {
   "cell_type": "code",
   "execution_count": 97,
   "outputs": [
    {
     "data": {
      "text/plain": "(211550, 67)"
     },
     "execution_count": 97,
     "metadata": {},
     "output_type": "execute_result"
    }
   ],
   "source": [
    "lab_data.shape"
   ],
   "metadata": {
    "collapsed": false,
    "pycharm": {
     "name": "#%%\n"
    }
   }
  },
  {
   "cell_type": "code",
   "execution_count": 104,
   "outputs": [
    {
     "data": {
      "text/plain": "    Patient      Time                    Value                            \\\nLab                   Alanine aminotransferase Albumin Albumin (ascites)   \n0         3  0.002778                      NaN     NaN               NaN   \n1         3  0.004167                      NaN     NaN               NaN   \n2         3  0.012500                      NaN     NaN               NaN   \n3         3  0.035417                     25.0     1.8               NaN   \n4         3  0.038889                      NaN     NaN               NaN   \n\n                                                                    \\\nLab Albumin (pleural) Albumin (urine) Alkaline phosphate Anion gap   \n0                 NaN             NaN                NaN       NaN   \n1                 NaN             NaN                NaN       NaN   \n2                 NaN             NaN                NaN      23.0   \n3                 NaN             NaN               73.0      22.0   \n4                 NaN             NaN                NaN       NaN   \n\n                               ...                                 \\\nLab Asparate aminotransferase  ... Red blood cell count (ascites)   \n0                         NaN  ...                            NaN   \n1                         NaN  ...                            NaN   \n2                         NaN  ...                            NaN   \n3                        69.0  ...                            NaN   \n4                         NaN  ...                            NaN   \n\n                                                                \\\nLab Red blood cell count (pleural) Sodium Sodium (whole blood)   \n0                              NaN    NaN                138.0   \n1                              NaN    NaN                153.0   \n2                              NaN  143.0                  NaN   \n3                              NaN  140.0                  NaN   \n4                              NaN    NaN                  NaN   \n\n                                                                     \\\nLab Tidal Volume Observed Total Protein Urine Troponin-I Troponin-T   \n0                     NaN                 NaN        NaN        NaN   \n1                     NaN                 NaN        NaN        NaN   \n2                     NaN                 NaN        NaN        NaN   \n3                     NaN                 NaN        NaN        NaN   \n4                     NaN                 NaN        NaN        NaN   \n\n                                  \nLab White blood cell count    pH  \n0                      NaN  7.35  \n1                      NaN  7.59  \n2                     11.3   NaN  \n3                     19.1   NaN  \n4                      NaN  7.26  \n\n[5 rows x 69 columns]",
      "text/html": "<div>\n<style scoped>\n    .dataframe tbody tr th:only-of-type {\n        vertical-align: middle;\n    }\n\n    .dataframe tbody tr th {\n        vertical-align: top;\n    }\n\n    .dataframe thead tr th {\n        text-align: left;\n    }\n</style>\n<table border=\"1\" class=\"dataframe\">\n  <thead>\n    <tr>\n      <th></th>\n      <th>Patient</th>\n      <th>Time</th>\n      <th colspan=\"19\" halign=\"left\">Value</th>\n    </tr>\n    <tr>\n      <th>Lab</th>\n      <th></th>\n      <th></th>\n      <th>Alanine aminotransferase</th>\n      <th>Albumin</th>\n      <th>Albumin (ascites)</th>\n      <th>Albumin (pleural)</th>\n      <th>Albumin (urine)</th>\n      <th>Alkaline phosphate</th>\n      <th>Anion gap</th>\n      <th>Asparate aminotransferase</th>\n      <th>...</th>\n      <th>Red blood cell count (ascites)</th>\n      <th>Red blood cell count (pleural)</th>\n      <th>Sodium</th>\n      <th>Sodium (whole blood)</th>\n      <th>Tidal Volume Observed</th>\n      <th>Total Protein Urine</th>\n      <th>Troponin-I</th>\n      <th>Troponin-T</th>\n      <th>White blood cell count</th>\n      <th>pH</th>\n    </tr>\n  </thead>\n  <tbody>\n    <tr>\n      <th>0</th>\n      <td>3</td>\n      <td>0.002778</td>\n      <td>NaN</td>\n      <td>NaN</td>\n      <td>NaN</td>\n      <td>NaN</td>\n      <td>NaN</td>\n      <td>NaN</td>\n      <td>NaN</td>\n      <td>NaN</td>\n      <td>...</td>\n      <td>NaN</td>\n      <td>NaN</td>\n      <td>NaN</td>\n      <td>138.0</td>\n      <td>NaN</td>\n      <td>NaN</td>\n      <td>NaN</td>\n      <td>NaN</td>\n      <td>NaN</td>\n      <td>7.35</td>\n    </tr>\n    <tr>\n      <th>1</th>\n      <td>3</td>\n      <td>0.004167</td>\n      <td>NaN</td>\n      <td>NaN</td>\n      <td>NaN</td>\n      <td>NaN</td>\n      <td>NaN</td>\n      <td>NaN</td>\n      <td>NaN</td>\n      <td>NaN</td>\n      <td>...</td>\n      <td>NaN</td>\n      <td>NaN</td>\n      <td>NaN</td>\n      <td>153.0</td>\n      <td>NaN</td>\n      <td>NaN</td>\n      <td>NaN</td>\n      <td>NaN</td>\n      <td>NaN</td>\n      <td>7.59</td>\n    </tr>\n    <tr>\n      <th>2</th>\n      <td>3</td>\n      <td>0.012500</td>\n      <td>NaN</td>\n      <td>NaN</td>\n      <td>NaN</td>\n      <td>NaN</td>\n      <td>NaN</td>\n      <td>NaN</td>\n      <td>23.0</td>\n      <td>NaN</td>\n      <td>...</td>\n      <td>NaN</td>\n      <td>NaN</td>\n      <td>143.0</td>\n      <td>NaN</td>\n      <td>NaN</td>\n      <td>NaN</td>\n      <td>NaN</td>\n      <td>NaN</td>\n      <td>11.3</td>\n      <td>NaN</td>\n    </tr>\n    <tr>\n      <th>3</th>\n      <td>3</td>\n      <td>0.035417</td>\n      <td>25.0</td>\n      <td>1.8</td>\n      <td>NaN</td>\n      <td>NaN</td>\n      <td>NaN</td>\n      <td>73.0</td>\n      <td>22.0</td>\n      <td>69.0</td>\n      <td>...</td>\n      <td>NaN</td>\n      <td>NaN</td>\n      <td>140.0</td>\n      <td>NaN</td>\n      <td>NaN</td>\n      <td>NaN</td>\n      <td>NaN</td>\n      <td>NaN</td>\n      <td>19.1</td>\n      <td>NaN</td>\n    </tr>\n    <tr>\n      <th>4</th>\n      <td>3</td>\n      <td>0.038889</td>\n      <td>NaN</td>\n      <td>NaN</td>\n      <td>NaN</td>\n      <td>NaN</td>\n      <td>NaN</td>\n      <td>NaN</td>\n      <td>NaN</td>\n      <td>NaN</td>\n      <td>...</td>\n      <td>NaN</td>\n      <td>NaN</td>\n      <td>NaN</td>\n      <td>NaN</td>\n      <td>NaN</td>\n      <td>NaN</td>\n      <td>NaN</td>\n      <td>NaN</td>\n      <td>NaN</td>\n      <td>7.26</td>\n    </tr>\n  </tbody>\n</table>\n<p>5 rows × 69 columns</p>\n</div>"
     },
     "execution_count": 104,
     "metadata": {},
     "output_type": "execute_result"
    }
   ],
   "source": [
    "new_lab_data.reset_index()\n",
    "new_lab.head()"
   ],
   "metadata": {
    "collapsed": false,
    "pycharm": {
     "name": "#%%\n"
    }
   }
  },
  {
   "cell_type": "markdown",
   "source": [
    "# Step 10. Save dataframes to csv format"
   ],
   "metadata": {
    "collapsed": false,
    "pycharm": {
     "name": "#%% md\n"
    }
   }
  },
  {
   "cell_type": "code",
   "execution_count": 105,
   "outputs": [],
   "source": [
    "new_lab_data.to_csv('../data/lab_data_cleaned.csv')\n",
    "admissions.to_csv('../data/admissions_cleaned.csv')"
   ],
   "metadata": {
    "collapsed": false,
    "pycharm": {
     "name": "#%%\n"
    }
   }
  }
 ],
 "metadata": {
  "kernelspec": {
   "display_name": "Python 3",
   "language": "python",
   "name": "python3"
  },
  "language_info": {
   "codemirror_mode": {
    "name": "ipython",
    "version": 2
   },
   "file_extension": ".py",
   "mimetype": "text/x-python",
   "name": "python",
   "nbconvert_exporter": "python",
   "pygments_lexer": "ipython2",
   "version": "2.7.6"
  }
 },
 "nbformat": 4,
 "nbformat_minor": 0
}